{
 "cells": [
  {
   "cell_type": "code",
   "execution_count": 3,
   "id": "017b8c5f-9cdf-4b4c-881b-be085af07657",
   "metadata": {},
   "outputs": [],
   "source": [
    "import pandas as pd\n",
    "import numpy as np\n",
    "import matplotlib as pt\n",
    "from sklearn.model_selection import train_test_split\n",
    "from sklearn.preprocessing import StandardScaler,LabelEncoder\n",
    "from sklearn.impute import SimpleImputer"
   ]
  },
  {
   "cell_type": "code",
   "execution_count": 4,
   "id": "38612311-a760-4a51-91a9-8d8918dd1521",
   "metadata": {},
   "outputs": [
    {
     "name": "stdout",
     "output_type": "stream",
     "text": [
      "   rowid     kepid kepoi_name   kepler_name koi_disposition koi_pdisposition  \\\n",
      "0      1  10797460  K00752.01  Kepler-227 b       CONFIRMED        CANDIDATE   \n",
      "1      2  10797460  K00752.02  Kepler-227 c       CONFIRMED        CANDIDATE   \n",
      "2      3  10811496  K00753.01           NaN  FALSE POSITIVE   FALSE POSITIVE   \n",
      "3      4  10848459  K00754.01           NaN  FALSE POSITIVE   FALSE POSITIVE   \n",
      "4      5  10854555  K00755.01  Kepler-664 b       CONFIRMED        CANDIDATE   \n",
      "\n",
      "   koi_score  koi_fpflag_nt  koi_fpflag_ss  koi_fpflag_co  ...  \\\n",
      "0      1.000              0              0              0  ...   \n",
      "1      0.969              0              0              0  ...   \n",
      "2      0.000              0              1              0  ...   \n",
      "3      0.000              0              1              0  ...   \n",
      "4      1.000              0              0              0  ...   \n",
      "\n",
      "   koi_steff_err2  koi_slogg  koi_slogg_err1  koi_slogg_err2  koi_srad  \\\n",
      "0           -81.0      4.467           0.064          -0.096     0.927   \n",
      "1           -81.0      4.467           0.064          -0.096     0.927   \n",
      "2          -176.0      4.544           0.044          -0.176     0.868   \n",
      "3          -174.0      4.564           0.053          -0.168     0.791   \n",
      "4          -211.0      4.438           0.070          -0.210     1.046   \n",
      "\n",
      "   koi_srad_err1  koi_srad_err2         ra        dec  koi_kepmag  \n",
      "0          0.105         -0.061  291.93423  48.141651      15.347  \n",
      "1          0.105         -0.061  291.93423  48.141651      15.347  \n",
      "2          0.233         -0.078  297.00482  48.134129      15.436  \n",
      "3          0.201         -0.067  285.53461  48.285210      15.597  \n",
      "4          0.334         -0.133  288.75488  48.226200      15.509  \n",
      "\n",
      "[5 rows x 50 columns]\n"
     ]
    }
   ],
   "source": [
    "da=pd.read_csv(\"cumulative.csv\")\n",
    "print(da.head())"
   ]
  },
  {
   "cell_type": "code",
   "execution_count": 9,
   "id": "8bccd058-d273-4c7a-ba7d-e636e11469b0",
   "metadata": {},
   "outputs": [
    {
     "name": "stdout",
     "output_type": "stream",
     "text": [
      "<class 'pandas.core.frame.DataFrame'>\n",
      "RangeIndex: 9564 entries, 0 to 9563\n",
      "Data columns (total 50 columns):\n",
      " #   Column             Non-Null Count  Dtype  \n",
      "---  ------             --------------  -----  \n",
      " 0   rowid              9564 non-null   int64  \n",
      " 1   kepid              9564 non-null   int64  \n",
      " 2   kepoi_name         9564 non-null   object \n",
      " 3   kepler_name        2294 non-null   object \n",
      " 4   koi_disposition    9564 non-null   object \n",
      " 5   koi_pdisposition   9564 non-null   object \n",
      " 6   koi_score          8054 non-null   float64\n",
      " 7   koi_fpflag_nt      9564 non-null   int64  \n",
      " 8   koi_fpflag_ss      9564 non-null   int64  \n",
      " 9   koi_fpflag_co      9564 non-null   int64  \n",
      " 10  koi_fpflag_ec      9564 non-null   int64  \n",
      " 11  koi_period         9564 non-null   float64\n",
      " 12  koi_period_err1    9110 non-null   float64\n",
      " 13  koi_period_err2    9110 non-null   float64\n",
      " 14  koi_time0bk        9564 non-null   float64\n",
      " 15  koi_time0bk_err1   9110 non-null   float64\n",
      " 16  koi_time0bk_err2   9110 non-null   float64\n",
      " 17  koi_impact         9201 non-null   float64\n",
      " 18  koi_impact_err1    9110 non-null   float64\n",
      " 19  koi_impact_err2    9110 non-null   float64\n",
      " 20  koi_duration       9564 non-null   float64\n",
      " 21  koi_duration_err1  9110 non-null   float64\n",
      " 22  koi_duration_err2  9110 non-null   float64\n",
      " 23  koi_depth          9201 non-null   float64\n",
      " 24  koi_depth_err1     9110 non-null   float64\n",
      " 25  koi_depth_err2     9110 non-null   float64\n",
      " 26  koi_prad           9201 non-null   float64\n",
      " 27  koi_prad_err1      9201 non-null   float64\n",
      " 28  koi_prad_err2      9201 non-null   float64\n",
      " 29  koi_teq            9201 non-null   float64\n",
      " 30  koi_teq_err1       0 non-null      float64\n",
      " 31  koi_teq_err2       0 non-null      float64\n",
      " 32  koi_insol          9243 non-null   float64\n",
      " 33  koi_insol_err1     9243 non-null   float64\n",
      " 34  koi_insol_err2     9243 non-null   float64\n",
      " 35  koi_model_snr      9201 non-null   float64\n",
      " 36  koi_tce_plnt_num   9218 non-null   float64\n",
      " 37  koi_tce_delivname  9218 non-null   object \n",
      " 38  koi_steff          9201 non-null   float64\n",
      " 39  koi_steff_err1     9096 non-null   float64\n",
      " 40  koi_steff_err2     9081 non-null   float64\n",
      " 41  koi_slogg          9201 non-null   float64\n",
      " 42  koi_slogg_err1     9096 non-null   float64\n",
      " 43  koi_slogg_err2     9096 non-null   float64\n",
      " 44  koi_srad           9201 non-null   float64\n",
      " 45  koi_srad_err1      9096 non-null   float64\n",
      " 46  koi_srad_err2      9096 non-null   float64\n",
      " 47  ra                 9564 non-null   float64\n",
      " 48  dec                9564 non-null   float64\n",
      " 49  koi_kepmag         9563 non-null   float64\n",
      "dtypes: float64(39), int64(6), object(5)\n",
      "memory usage: 3.6+ MB\n",
      "None\n"
     ]
    }
   ],
   "source": [
    "print(da.info())"
   ]
  },
  {
   "cell_type": "code",
   "execution_count": 11,
   "id": "5bdd96eb-d169-4c3e-9d00-f1a281e4800d",
   "metadata": {},
   "outputs": [
    {
     "name": "stdout",
     "output_type": "stream",
     "text": [
      "             rowid         kepid    koi_score  koi_fpflag_nt  koi_fpflag_ss  \\\n",
      "count  9564.000000  9.564000e+03  8054.000000    9564.000000    9564.000000   \n",
      "mean   4782.500000  7.690628e+06     0.480829       0.188206       0.231598   \n",
      "std    2761.033321  2.653459e+06     0.476928       0.390897       0.421875   \n",
      "min       1.000000  7.574500e+05     0.000000       0.000000       0.000000   \n",
      "25%    2391.750000  5.556034e+06     0.000000       0.000000       0.000000   \n",
      "50%    4782.500000  7.906892e+06     0.334000       0.000000       0.000000   \n",
      "75%    7173.250000  9.873066e+06     0.998000       0.000000       0.000000   \n",
      "max    9564.000000  1.293514e+07     1.000000       1.000000       1.000000   \n",
      "\n",
      "       koi_fpflag_co  koi_fpflag_ec     koi_period  koi_period_err1  \\\n",
      "count    9564.000000    9564.000000    9564.000000      9110.000000   \n",
      "mean        0.194898       0.120033      75.671358         0.002148   \n",
      "std         0.396143       0.325018    1334.744046         0.008236   \n",
      "min         0.000000       0.000000       0.241843         0.000000   \n",
      "25%         0.000000       0.000000       2.733684         0.000005   \n",
      "50%         0.000000       0.000000       9.752831         0.000035   \n",
      "75%         0.000000       0.000000      40.715178         0.000276   \n",
      "max         1.000000       1.000000  129995.778400         0.172500   \n",
      "\n",
      "       koi_period_err2  ...  koi_steff_err2    koi_slogg  koi_slogg_err1  \\\n",
      "count      9110.000000  ...     9081.000000  9201.000000     9096.000000   \n",
      "mean         -0.002148  ...     -162.265059     4.310157        0.120738   \n",
      "std           0.008236  ...       72.746348     0.432606        0.132837   \n",
      "min          -0.172500  ...    -1762.000000     0.047000        0.000000   \n",
      "25%          -0.000276  ...     -198.000000     4.218000        0.042000   \n",
      "50%          -0.000035  ...     -160.000000     4.438000        0.070000   \n",
      "75%          -0.000005  ...     -114.000000     4.543000        0.149000   \n",
      "max           0.000000  ...        0.000000     5.364000        1.472000   \n",
      "\n",
      "       koi_slogg_err2     koi_srad  koi_srad_err1  koi_srad_err2           ra  \\\n",
      "count     9096.000000  9201.000000    9096.000000    9096.000000  9564.000000   \n",
      "mean        -0.143161     1.728712       0.362292      -0.394806   292.060163   \n",
      "std          0.085477     6.127185       0.930870       2.168213     4.766657   \n",
      "min         -1.207000     0.109000       0.000000    -116.137000   279.852720   \n",
      "25%         -0.196000     0.829000       0.129000      -0.250000   288.660770   \n",
      "50%         -0.128000     1.000000       0.251000      -0.111000   292.261125   \n",
      "75%         -0.088000     1.345000       0.364000      -0.069000   295.859160   \n",
      "max          0.000000   229.908000      33.091000       0.000000   301.720760   \n",
      "\n",
      "               dec   koi_kepmag  \n",
      "count  9564.000000  9563.000000  \n",
      "mean     43.810433    14.264606  \n",
      "std       3.601243     1.385448  \n",
      "min      36.577381     6.966000  \n",
      "25%      40.777173    13.440000  \n",
      "50%      43.677504    14.520000  \n",
      "75%      46.714611    15.322000  \n",
      "max      52.336010    20.003000  \n",
      "\n",
      "[8 rows x 45 columns]\n"
     ]
    }
   ],
   "source": [
    "print(da.describe())"
   ]
  },
  {
   "cell_type": "code",
   "execution_count": 19,
   "id": "e531a7f3-910c-4f2b-af05-32a800dfd97b",
   "metadata": {},
   "outputs": [],
   "source": [
    "imp_columns = [\n",
    "    'koi_period', 'koi_duration', 'koi_depth', 'koi_prad', \n",
    "    'koi_model_snr', 'koi_steff', 'koi_slogg', 'koi_srad', \n",
    "    'koi_disposition'\n",
    "]\n",
    "col_drop=[col for col in da.columns if col not in imp_columns]\n",
    "da=da.drop(columns=col_drop, axis=1, errors=\"ignore\")"
   ]
  },
  {
   "cell_type": "code",
   "execution_count": 51,
   "id": "62ca016a-cdc3-44a6-aa41-e1d81dd57e91",
   "metadata": {},
   "outputs": [],
   "source": [
    "x=da.drop('koi_disposition',axis=1)\n",
    "y=da['koi_disposition']"
   ]
  },
  {
   "cell_type": "code",
   "execution_count": 55,
   "id": "3fda3117-6687-44fa-be6f-bf5c92fbccda",
   "metadata": {},
   "outputs": [],
   "source": [
    "si=SimpleImputer(strategy=\"mean\")\n",
    "x=si.fit_transform(x)"
   ]
  },
  {
   "cell_type": "code",
   "execution_count": 71,
   "id": "51151460-631b-4831-af17-3a220afc61ed",
   "metadata": {},
   "outputs": [],
   "source": [
    "y=y.map({'CONFIRMED':1,'FALSE POSITIVE':0,'CANDIDATE':2})"
   ]
  },
  {
   "cell_type": "code",
   "execution_count": 85,
   "id": "55a60999-12c9-4c79-8191-eeaab7a02e22",
   "metadata": {},
   "outputs": [],
   "source": [
    "ss=StandardScaler()\n",
    "x=ss.fit_transform(x)"
   ]
  },
  {
   "cell_type": "code",
   "execution_count": 87,
   "id": "e24c8351-0fa2-422e-a0d2-d6b09cd4bcec",
   "metadata": {},
   "outputs": [],
   "source": [
    "x_train,x_test,y_train,y_test=train_test_split(x,y,test_size=0.25,random_state=42,stratify=y)"
   ]
  },
  {
   "cell_type": "code",
   "execution_count": 93,
   "id": "b0312127-bb8b-4f72-8860-d2b24a15f835",
   "metadata": {},
   "outputs": [],
   "source": [
    "from sklearn.ensemble import RandomForestClassifier\n",
    "from sklearn.metrics import accuracy_score,classification_report,confusion_matrix\n",
    "from sklearn.model_selection import GridSearchCV"
   ]
  },
  {
   "cell_type": "code",
   "execution_count": 109,
   "id": "3764f188-810b-4544-a8d2-639599670a68",
   "metadata": {},
   "outputs": [
    {
     "data": {
      "text/html": [
       "<style>#sk-container-id-2 {\n",
       "  /* Definition of color scheme common for light and dark mode */\n",
       "  --sklearn-color-text: black;\n",
       "  --sklearn-color-line: gray;\n",
       "  /* Definition of color scheme for unfitted estimators */\n",
       "  --sklearn-color-unfitted-level-0: #fff5e6;\n",
       "  --sklearn-color-unfitted-level-1: #f6e4d2;\n",
       "  --sklearn-color-unfitted-level-2: #ffe0b3;\n",
       "  --sklearn-color-unfitted-level-3: chocolate;\n",
       "  /* Definition of color scheme for fitted estimators */\n",
       "  --sklearn-color-fitted-level-0: #f0f8ff;\n",
       "  --sklearn-color-fitted-level-1: #d4ebff;\n",
       "  --sklearn-color-fitted-level-2: #b3dbfd;\n",
       "  --sklearn-color-fitted-level-3: cornflowerblue;\n",
       "\n",
       "  /* Specific color for light theme */\n",
       "  --sklearn-color-text-on-default-background: var(--sg-text-color, var(--theme-code-foreground, var(--jp-content-font-color1, black)));\n",
       "  --sklearn-color-background: var(--sg-background-color, var(--theme-background, var(--jp-layout-color0, white)));\n",
       "  --sklearn-color-border-box: var(--sg-text-color, var(--theme-code-foreground, var(--jp-content-font-color1, black)));\n",
       "  --sklearn-color-icon: #696969;\n",
       "\n",
       "  @media (prefers-color-scheme: dark) {\n",
       "    /* Redefinition of color scheme for dark theme */\n",
       "    --sklearn-color-text-on-default-background: var(--sg-text-color, var(--theme-code-foreground, var(--jp-content-font-color1, white)));\n",
       "    --sklearn-color-background: var(--sg-background-color, var(--theme-background, var(--jp-layout-color0, #111)));\n",
       "    --sklearn-color-border-box: var(--sg-text-color, var(--theme-code-foreground, var(--jp-content-font-color1, white)));\n",
       "    --sklearn-color-icon: #878787;\n",
       "  }\n",
       "}\n",
       "\n",
       "#sk-container-id-2 {\n",
       "  color: var(--sklearn-color-text);\n",
       "}\n",
       "\n",
       "#sk-container-id-2 pre {\n",
       "  padding: 0;\n",
       "}\n",
       "\n",
       "#sk-container-id-2 input.sk-hidden--visually {\n",
       "  border: 0;\n",
       "  clip: rect(1px 1px 1px 1px);\n",
       "  clip: rect(1px, 1px, 1px, 1px);\n",
       "  height: 1px;\n",
       "  margin: -1px;\n",
       "  overflow: hidden;\n",
       "  padding: 0;\n",
       "  position: absolute;\n",
       "  width: 1px;\n",
       "}\n",
       "\n",
       "#sk-container-id-2 div.sk-dashed-wrapped {\n",
       "  border: 1px dashed var(--sklearn-color-line);\n",
       "  margin: 0 0.4em 0.5em 0.4em;\n",
       "  box-sizing: border-box;\n",
       "  padding-bottom: 0.4em;\n",
       "  background-color: var(--sklearn-color-background);\n",
       "}\n",
       "\n",
       "#sk-container-id-2 div.sk-container {\n",
       "  /* jupyter's `normalize.less` sets `[hidden] { display: none; }`\n",
       "     but bootstrap.min.css set `[hidden] { display: none !important; }`\n",
       "     so we also need the `!important` here to be able to override the\n",
       "     default hidden behavior on the sphinx rendered scikit-learn.org.\n",
       "     See: https://github.com/scikit-learn/scikit-learn/issues/21755 */\n",
       "  display: inline-block !important;\n",
       "  position: relative;\n",
       "}\n",
       "\n",
       "#sk-container-id-2 div.sk-text-repr-fallback {\n",
       "  display: none;\n",
       "}\n",
       "\n",
       "div.sk-parallel-item,\n",
       "div.sk-serial,\n",
       "div.sk-item {\n",
       "  /* draw centered vertical line to link estimators */\n",
       "  background-image: linear-gradient(var(--sklearn-color-text-on-default-background), var(--sklearn-color-text-on-default-background));\n",
       "  background-size: 2px 100%;\n",
       "  background-repeat: no-repeat;\n",
       "  background-position: center center;\n",
       "}\n",
       "\n",
       "/* Parallel-specific style estimator block */\n",
       "\n",
       "#sk-container-id-2 div.sk-parallel-item::after {\n",
       "  content: \"\";\n",
       "  width: 100%;\n",
       "  border-bottom: 2px solid var(--sklearn-color-text-on-default-background);\n",
       "  flex-grow: 1;\n",
       "}\n",
       "\n",
       "#sk-container-id-2 div.sk-parallel {\n",
       "  display: flex;\n",
       "  align-items: stretch;\n",
       "  justify-content: center;\n",
       "  background-color: var(--sklearn-color-background);\n",
       "  position: relative;\n",
       "}\n",
       "\n",
       "#sk-container-id-2 div.sk-parallel-item {\n",
       "  display: flex;\n",
       "  flex-direction: column;\n",
       "}\n",
       "\n",
       "#sk-container-id-2 div.sk-parallel-item:first-child::after {\n",
       "  align-self: flex-end;\n",
       "  width: 50%;\n",
       "}\n",
       "\n",
       "#sk-container-id-2 div.sk-parallel-item:last-child::after {\n",
       "  align-self: flex-start;\n",
       "  width: 50%;\n",
       "}\n",
       "\n",
       "#sk-container-id-2 div.sk-parallel-item:only-child::after {\n",
       "  width: 0;\n",
       "}\n",
       "\n",
       "/* Serial-specific style estimator block */\n",
       "\n",
       "#sk-container-id-2 div.sk-serial {\n",
       "  display: flex;\n",
       "  flex-direction: column;\n",
       "  align-items: center;\n",
       "  background-color: var(--sklearn-color-background);\n",
       "  padding-right: 1em;\n",
       "  padding-left: 1em;\n",
       "}\n",
       "\n",
       "\n",
       "/* Toggleable style: style used for estimator/Pipeline/ColumnTransformer box that is\n",
       "clickable and can be expanded/collapsed.\n",
       "- Pipeline and ColumnTransformer use this feature and define the default style\n",
       "- Estimators will overwrite some part of the style using the `sk-estimator` class\n",
       "*/\n",
       "\n",
       "/* Pipeline and ColumnTransformer style (default) */\n",
       "\n",
       "#sk-container-id-2 div.sk-toggleable {\n",
       "  /* Default theme specific background. It is overwritten whether we have a\n",
       "  specific estimator or a Pipeline/ColumnTransformer */\n",
       "  background-color: var(--sklearn-color-background);\n",
       "}\n",
       "\n",
       "/* Toggleable label */\n",
       "#sk-container-id-2 label.sk-toggleable__label {\n",
       "  cursor: pointer;\n",
       "  display: block;\n",
       "  width: 100%;\n",
       "  margin-bottom: 0;\n",
       "  padding: 0.5em;\n",
       "  box-sizing: border-box;\n",
       "  text-align: center;\n",
       "}\n",
       "\n",
       "#sk-container-id-2 label.sk-toggleable__label-arrow:before {\n",
       "  /* Arrow on the left of the label */\n",
       "  content: \"▸\";\n",
       "  float: left;\n",
       "  margin-right: 0.25em;\n",
       "  color: var(--sklearn-color-icon);\n",
       "}\n",
       "\n",
       "#sk-container-id-2 label.sk-toggleable__label-arrow:hover:before {\n",
       "  color: var(--sklearn-color-text);\n",
       "}\n",
       "\n",
       "/* Toggleable content - dropdown */\n",
       "\n",
       "#sk-container-id-2 div.sk-toggleable__content {\n",
       "  max-height: 0;\n",
       "  max-width: 0;\n",
       "  overflow: hidden;\n",
       "  text-align: left;\n",
       "  /* unfitted */\n",
       "  background-color: var(--sklearn-color-unfitted-level-0);\n",
       "}\n",
       "\n",
       "#sk-container-id-2 div.sk-toggleable__content.fitted {\n",
       "  /* fitted */\n",
       "  background-color: var(--sklearn-color-fitted-level-0);\n",
       "}\n",
       "\n",
       "#sk-container-id-2 div.sk-toggleable__content pre {\n",
       "  margin: 0.2em;\n",
       "  border-radius: 0.25em;\n",
       "  color: var(--sklearn-color-text);\n",
       "  /* unfitted */\n",
       "  background-color: var(--sklearn-color-unfitted-level-0);\n",
       "}\n",
       "\n",
       "#sk-container-id-2 div.sk-toggleable__content.fitted pre {\n",
       "  /* unfitted */\n",
       "  background-color: var(--sklearn-color-fitted-level-0);\n",
       "}\n",
       "\n",
       "#sk-container-id-2 input.sk-toggleable__control:checked~div.sk-toggleable__content {\n",
       "  /* Expand drop-down */\n",
       "  max-height: 200px;\n",
       "  max-width: 100%;\n",
       "  overflow: auto;\n",
       "}\n",
       "\n",
       "#sk-container-id-2 input.sk-toggleable__control:checked~label.sk-toggleable__label-arrow:before {\n",
       "  content: \"▾\";\n",
       "}\n",
       "\n",
       "/* Pipeline/ColumnTransformer-specific style */\n",
       "\n",
       "#sk-container-id-2 div.sk-label input.sk-toggleable__control:checked~label.sk-toggleable__label {\n",
       "  color: var(--sklearn-color-text);\n",
       "  background-color: var(--sklearn-color-unfitted-level-2);\n",
       "}\n",
       "\n",
       "#sk-container-id-2 div.sk-label.fitted input.sk-toggleable__control:checked~label.sk-toggleable__label {\n",
       "  background-color: var(--sklearn-color-fitted-level-2);\n",
       "}\n",
       "\n",
       "/* Estimator-specific style */\n",
       "\n",
       "/* Colorize estimator box */\n",
       "#sk-container-id-2 div.sk-estimator input.sk-toggleable__control:checked~label.sk-toggleable__label {\n",
       "  /* unfitted */\n",
       "  background-color: var(--sklearn-color-unfitted-level-2);\n",
       "}\n",
       "\n",
       "#sk-container-id-2 div.sk-estimator.fitted input.sk-toggleable__control:checked~label.sk-toggleable__label {\n",
       "  /* fitted */\n",
       "  background-color: var(--sklearn-color-fitted-level-2);\n",
       "}\n",
       "\n",
       "#sk-container-id-2 div.sk-label label.sk-toggleable__label,\n",
       "#sk-container-id-2 div.sk-label label {\n",
       "  /* The background is the default theme color */\n",
       "  color: var(--sklearn-color-text-on-default-background);\n",
       "}\n",
       "\n",
       "/* On hover, darken the color of the background */\n",
       "#sk-container-id-2 div.sk-label:hover label.sk-toggleable__label {\n",
       "  color: var(--sklearn-color-text);\n",
       "  background-color: var(--sklearn-color-unfitted-level-2);\n",
       "}\n",
       "\n",
       "/* Label box, darken color on hover, fitted */\n",
       "#sk-container-id-2 div.sk-label.fitted:hover label.sk-toggleable__label.fitted {\n",
       "  color: var(--sklearn-color-text);\n",
       "  background-color: var(--sklearn-color-fitted-level-2);\n",
       "}\n",
       "\n",
       "/* Estimator label */\n",
       "\n",
       "#sk-container-id-2 div.sk-label label {\n",
       "  font-family: monospace;\n",
       "  font-weight: bold;\n",
       "  display: inline-block;\n",
       "  line-height: 1.2em;\n",
       "}\n",
       "\n",
       "#sk-container-id-2 div.sk-label-container {\n",
       "  text-align: center;\n",
       "}\n",
       "\n",
       "/* Estimator-specific */\n",
       "#sk-container-id-2 div.sk-estimator {\n",
       "  font-family: monospace;\n",
       "  border: 1px dotted var(--sklearn-color-border-box);\n",
       "  border-radius: 0.25em;\n",
       "  box-sizing: border-box;\n",
       "  margin-bottom: 0.5em;\n",
       "  /* unfitted */\n",
       "  background-color: var(--sklearn-color-unfitted-level-0);\n",
       "}\n",
       "\n",
       "#sk-container-id-2 div.sk-estimator.fitted {\n",
       "  /* fitted */\n",
       "  background-color: var(--sklearn-color-fitted-level-0);\n",
       "}\n",
       "\n",
       "/* on hover */\n",
       "#sk-container-id-2 div.sk-estimator:hover {\n",
       "  /* unfitted */\n",
       "  background-color: var(--sklearn-color-unfitted-level-2);\n",
       "}\n",
       "\n",
       "#sk-container-id-2 div.sk-estimator.fitted:hover {\n",
       "  /* fitted */\n",
       "  background-color: var(--sklearn-color-fitted-level-2);\n",
       "}\n",
       "\n",
       "/* Specification for estimator info (e.g. \"i\" and \"?\") */\n",
       "\n",
       "/* Common style for \"i\" and \"?\" */\n",
       "\n",
       ".sk-estimator-doc-link,\n",
       "a:link.sk-estimator-doc-link,\n",
       "a:visited.sk-estimator-doc-link {\n",
       "  float: right;\n",
       "  font-size: smaller;\n",
       "  line-height: 1em;\n",
       "  font-family: monospace;\n",
       "  background-color: var(--sklearn-color-background);\n",
       "  border-radius: 1em;\n",
       "  height: 1em;\n",
       "  width: 1em;\n",
       "  text-decoration: none !important;\n",
       "  margin-left: 1ex;\n",
       "  /* unfitted */\n",
       "  border: var(--sklearn-color-unfitted-level-1) 1pt solid;\n",
       "  color: var(--sklearn-color-unfitted-level-1);\n",
       "}\n",
       "\n",
       ".sk-estimator-doc-link.fitted,\n",
       "a:link.sk-estimator-doc-link.fitted,\n",
       "a:visited.sk-estimator-doc-link.fitted {\n",
       "  /* fitted */\n",
       "  border: var(--sklearn-color-fitted-level-1) 1pt solid;\n",
       "  color: var(--sklearn-color-fitted-level-1);\n",
       "}\n",
       "\n",
       "/* On hover */\n",
       "div.sk-estimator:hover .sk-estimator-doc-link:hover,\n",
       ".sk-estimator-doc-link:hover,\n",
       "div.sk-label-container:hover .sk-estimator-doc-link:hover,\n",
       ".sk-estimator-doc-link:hover {\n",
       "  /* unfitted */\n",
       "  background-color: var(--sklearn-color-unfitted-level-3);\n",
       "  color: var(--sklearn-color-background);\n",
       "  text-decoration: none;\n",
       "}\n",
       "\n",
       "div.sk-estimator.fitted:hover .sk-estimator-doc-link.fitted:hover,\n",
       ".sk-estimator-doc-link.fitted:hover,\n",
       "div.sk-label-container:hover .sk-estimator-doc-link.fitted:hover,\n",
       ".sk-estimator-doc-link.fitted:hover {\n",
       "  /* fitted */\n",
       "  background-color: var(--sklearn-color-fitted-level-3);\n",
       "  color: var(--sklearn-color-background);\n",
       "  text-decoration: none;\n",
       "}\n",
       "\n",
       "/* Span, style for the box shown on hovering the info icon */\n",
       ".sk-estimator-doc-link span {\n",
       "  display: none;\n",
       "  z-index: 9999;\n",
       "  position: relative;\n",
       "  font-weight: normal;\n",
       "  right: .2ex;\n",
       "  padding: .5ex;\n",
       "  margin: .5ex;\n",
       "  width: min-content;\n",
       "  min-width: 20ex;\n",
       "  max-width: 50ex;\n",
       "  color: var(--sklearn-color-text);\n",
       "  box-shadow: 2pt 2pt 4pt #999;\n",
       "  /* unfitted */\n",
       "  background: var(--sklearn-color-unfitted-level-0);\n",
       "  border: .5pt solid var(--sklearn-color-unfitted-level-3);\n",
       "}\n",
       "\n",
       ".sk-estimator-doc-link.fitted span {\n",
       "  /* fitted */\n",
       "  background: var(--sklearn-color-fitted-level-0);\n",
       "  border: var(--sklearn-color-fitted-level-3);\n",
       "}\n",
       "\n",
       ".sk-estimator-doc-link:hover span {\n",
       "  display: block;\n",
       "}\n",
       "\n",
       "/* \"?\"-specific style due to the `<a>` HTML tag */\n",
       "\n",
       "#sk-container-id-2 a.estimator_doc_link {\n",
       "  float: right;\n",
       "  font-size: 1rem;\n",
       "  line-height: 1em;\n",
       "  font-family: monospace;\n",
       "  background-color: var(--sklearn-color-background);\n",
       "  border-radius: 1rem;\n",
       "  height: 1rem;\n",
       "  width: 1rem;\n",
       "  text-decoration: none;\n",
       "  /* unfitted */\n",
       "  color: var(--sklearn-color-unfitted-level-1);\n",
       "  border: var(--sklearn-color-unfitted-level-1) 1pt solid;\n",
       "}\n",
       "\n",
       "#sk-container-id-2 a.estimator_doc_link.fitted {\n",
       "  /* fitted */\n",
       "  border: var(--sklearn-color-fitted-level-1) 1pt solid;\n",
       "  color: var(--sklearn-color-fitted-level-1);\n",
       "}\n",
       "\n",
       "/* On hover */\n",
       "#sk-container-id-2 a.estimator_doc_link:hover {\n",
       "  /* unfitted */\n",
       "  background-color: var(--sklearn-color-unfitted-level-3);\n",
       "  color: var(--sklearn-color-background);\n",
       "  text-decoration: none;\n",
       "}\n",
       "\n",
       "#sk-container-id-2 a.estimator_doc_link.fitted:hover {\n",
       "  /* fitted */\n",
       "  background-color: var(--sklearn-color-fitted-level-3);\n",
       "}\n",
       "</style><div id=\"sk-container-id-2\" class=\"sk-top-container\"><div class=\"sk-text-repr-fallback\"><pre>RandomForestClassifier(random_state=42)</pre><b>In a Jupyter environment, please rerun this cell to show the HTML representation or trust the notebook. <br />On GitHub, the HTML representation is unable to render, please try loading this page with nbviewer.org.</b></div><div class=\"sk-container\" hidden><div class=\"sk-item\"><div class=\"sk-estimator fitted sk-toggleable\"><input class=\"sk-toggleable__control sk-hidden--visually\" id=\"sk-estimator-id-2\" type=\"checkbox\" checked><label for=\"sk-estimator-id-2\" class=\"sk-toggleable__label fitted sk-toggleable__label-arrow fitted\">&nbsp;&nbsp;RandomForestClassifier<a class=\"sk-estimator-doc-link fitted\" rel=\"noreferrer\" target=\"_blank\" href=\"https://scikit-learn.org/1.5/modules/generated/sklearn.ensemble.RandomForestClassifier.html\">?<span>Documentation for RandomForestClassifier</span></a><span class=\"sk-estimator-doc-link fitted\">i<span>Fitted</span></span></label><div class=\"sk-toggleable__content fitted\"><pre>RandomForestClassifier(random_state=42)</pre></div> </div></div></div></div>"
      ],
      "text/plain": [
       "RandomForestClassifier(random_state=42)"
      ]
     },
     "execution_count": 109,
     "metadata": {},
     "output_type": "execute_result"
    }
   ],
   "source": [
    "rf_model=RandomForestClassifier(random_state=42,n_estimators=100)\n",
    "rf_model.fit(x_train,y_train)"
   ]
  },
  {
   "cell_type": "code",
   "execution_count": 111,
   "id": "508a121e-243e-4d38-a3d4-a0cd17303ddc",
   "metadata": {},
   "outputs": [],
   "source": [
    "y_pred=rf_model.predict(x_test)"
   ]
  },
  {
   "cell_type": "code",
   "execution_count": 113,
   "id": "f747a501-5e54-4b2a-b944-86e53822f623",
   "metadata": {},
   "outputs": [
    {
     "name": "stdout",
     "output_type": "stream",
     "text": [
      "0.7498954412379757\n"
     ]
    }
   ],
   "source": [
    "ac=accuracy_score(y_test,y_pred)\n",
    "print(ac)"
   ]
  },
  {
   "cell_type": "code",
   "execution_count": 115,
   "id": "cbbe3099-aff1-43f6-9880-b3ba07bc19fc",
   "metadata": {},
   "outputs": [
    {
     "name": "stdout",
     "output_type": "stream",
     "text": [
      "              precision    recall  f1-score   support\n",
      "\n",
      "           0       0.81      0.89      0.84      1256\n",
      "           1       0.74      0.78      0.76       573\n",
      "           2       0.58      0.42      0.49       562\n",
      "\n",
      "    accuracy                           0.75      2391\n",
      "   macro avg       0.71      0.69      0.70      2391\n",
      "weighted avg       0.74      0.75      0.74      2391\n",
      "\n"
     ]
    }
   ],
   "source": [
    "print(classification_report(y_test,y_pred))"
   ]
  },
  {
   "cell_type": "code",
   "execution_count": 117,
   "id": "ee80729a-63f1-4d4e-b8b6-c713bda946d3",
   "metadata": {},
   "outputs": [
    {
     "name": "stdout",
     "output_type": "stream",
     "text": [
      "[[1112   43  101]\n",
      " [  60  445   68]\n",
      " [ 209  117  236]]\n"
     ]
    }
   ],
   "source": [
    "print(confusion_matrix(y_test,y_pred))"
   ]
  },
  {
   "cell_type": "code",
   "execution_count": 129,
   "id": "bf73c7d8-969b-44e9-801d-4359098f8b08",
   "metadata": {},
   "outputs": [
    {
     "name": "stdout",
     "output_type": "stream",
     "text": [
      "{'bootstrap': True, 'max_depth': None, 'min_samples_leaf': 2, 'min_samples_split': 2, 'n_estimators': 200}\n"
     ]
    }
   ],
   "source": [
    "pg={'n_estimators':[100,200],'max_depth':[10,20,None],'min_samples_split':[2,5],'min_samples_leaf':[1,2],'bootstrap':[True,False]}\n",
    "gs=GridSearchCV(estimator=RandomForestClassifier(random_state=42),param_grid=pg,cv=5,scoring='accuracy',n_jobs=-1)\n",
    "gs=gs.fit(x_train,y_train)\n",
    "best_rf_model=gs.best_estimator_\n",
    "print(gs.best_params_)"
   ]
  },
  {
   "cell_type": "code",
   "execution_count": 133,
   "id": "ff9b48ca-4a19-4c7c-b97c-57c3837e0eda",
   "metadata": {},
   "outputs": [
    {
     "name": "stdout",
     "output_type": "stream",
     "text": [
      "0.7582601421999163\n"
     ]
    }
   ],
   "source": [
    "y_pred_best=best_rf_model.predict(x_test)\n",
    "print(accuracy_score(y_test,y_pred_best))"
   ]
  },
  {
   "cell_type": "code",
   "execution_count": 149,
   "id": "0e3f0849-352a-4fea-aab4-2f2a857720ce",
   "metadata": {},
   "outputs": [
    {
     "name": "stdout",
     "output_type": "stream",
     "text": [
      "              precision    recall  f1-score   support\n",
      "\n",
      "           0       0.81      0.89      0.85      1256\n",
      "           1       0.74      0.77      0.76       573\n",
      "           2       0.60      0.44      0.51       562\n",
      "\n",
      "    accuracy                           0.76      2391\n",
      "   macro avg       0.72      0.70      0.71      2391\n",
      "weighted avg       0.75      0.76      0.75      2391\n",
      "\n"
     ]
    }
   ],
   "source": [
    "print(classification_report(y_test,y_pred_best))"
   ]
  },
  {
   "cell_type": "code",
   "execution_count": 151,
   "id": "f795d197-7d25-4f06-8a2b-e6e49700f58c",
   "metadata": {},
   "outputs": [
    {
     "name": "stdout",
     "output_type": "stream",
     "text": [
      "[0.63408259 0.76006273 0.69315212 0.76424464 0.70188285]\n"
     ]
    }
   ],
   "source": [
    "from sklearn.model_selection import cross_val_score\n",
    "cv_scores=cross_val_score(best_rf_model,x,y,cv=5,scoring=\"accuracy\")\n",
    "print(cv_scores)"
   ]
  },
  {
   "cell_type": "code",
   "execution_count": 153,
   "id": "4ee9d1b5-6530-4986-982d-fa809af8fc2c",
   "metadata": {},
   "outputs": [
    {
     "name": "stdout",
     "output_type": "stream",
     "text": [
      "0.7106849851380229\n"
     ]
    }
   ],
   "source": [
    "print(np.mean(cv_scores))"
   ]
  },
  {
   "cell_type": "code",
   "execution_count": 161,
   "id": "513f0dd6-5056-4d70-900f-eb6ac643b660",
   "metadata": {},
   "outputs": [
    {
     "data": {
      "image/png": "[encoded data removed]",
      "text/plain": [
       "<Figure size 1000x600 with 1 Axes>"
      ]
     },
     "metadata": {},
     "output_type": "display_data"
    }
   ],
   "source": [
    "import matplotlib.pyplot as plt\n",
    "future_importances=best_rf_model.feature_importances_\n",
    "feature_names=da.drop('koi_disposition',axis=1).columns\n",
    "plt.figure(figsize=(10,6))\n",
    "plt.barh(feature_names,future_importances)\n",
    "plt.xlabel('features_importance')\n",
    "plt.ylabel('feature')\n",
    "plt.title('feature importances in random model')\n",
    "plt.show()"
   ]
  },
  {
   "cell_type": "code",
   "execution_count": 163,
   "id": "410c1a10-b071-4ff5-bec6-cedee51354c4",
   "metadata": {},
   "outputs": [
    {
     "data": {
      "text/plain": [
       "['random_forset_model.pkl']"
      ]
     },
     "execution_count": 163,
     "metadata": {},
     "output_type": "execute_result"
    }
   ],
   "source": [
    "import joblib\n",
    "joblib.dump(best_rf_model,\"random_forset_model.pkl\")"
   ]
  },
  {
   "cell_type": "code",
   "execution_count": null,
   "id": "52f0b72e-a13c-4a1d-a289-82ef841970ec",
   "metadata": {},
   "outputs": [],
   "source": []
  }
 ],
 "metadata": {
  "kernelspec": {
   "display_name": "Python 3 (ipykernel)",
   "language": "python",
   "name": "python3"
  },
  "language_info": {
   "codemirror_mode": {
    "name": "ipython",
    "version": 3
   },
   "file_extension": ".py",
   "mimetype": "text/x-python",
   "name": "python",
   "nbconvert_exporter": "python",
   "pygments_lexer": "ipython3",
   "version": "3.12.7"
  }
 },
 "nbformat": 4,
 "nbformat_minor": 5
}
